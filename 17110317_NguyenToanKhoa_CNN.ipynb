{
  "nbformat": 4,
  "nbformat_minor": 0,
  "metadata": {
    "accelerator": "GPU",
    "colab": {
      "name": "17110317_NguyenToanKhoa_CNN.ipynb",
      "provenance": [],
      "collapsed_sections": []
    },
    "kernelspec": {
      "display_name": "Python 3",
      "name": "python3"
    },
    "language_info": {
      "name": "python"
    }
  },
  "cells": [
    {
      "cell_type": "code",
      "metadata": {
        "id": "RgsDUR_mssfd",
        "colab": {
          "base_uri": "https://localhost:8080/"
        },
        "outputId": "c56b96c9-85c8-4a6e-bfd4-f897c8b23356"
      },
      "source": [
        "# Kết nối với Drive\n",
        "from google.colab import drive\n",
        "drive.mount('/content/drive')"
      ],
      "execution_count": null,
      "outputs": [
        {
          "output_type": "stream",
          "text": [
            "Drive already mounted at /content/drive; to attempt to forcibly remount, call drive.mount(\"/content/drive\", force_remount=True).\n"
          ],
          "name": "stdout"
        }
      ]
    },
    {
      "cell_type": "code",
      "metadata": {
        "id": "H7TDlFqu0xVJ"
      },
      "source": [
        "#!apt install unzip\n",
        "#!cd \"/content/drive/MyDrive/Colab Notebooks/\"\n",
        "#!unzip -u \"/content/drive/MyDrive/Colab Notebooks/dataset.zip\" -d \"/content/drive/MyDrive/Colab Notebooks/dataset\"\n",
        "#!unzip -u \"/content/drive/MyDrive/Colab Notebooks/LabDL/Benign-20210323T020736Z-001.zip\" -d \"/content/drive/MyDrive/Colab Notebooks/LabDL/dataset\"\n",
        "#!unzip -u \"/content/drive/MyDrive/Colab Notebooks/LabDL/Benign-20210323T020736Z-002.zip\" -d \"/content/drive/MyDrive/Colab Notebooks/LabDL/dataset\"\n"
      ],
      "execution_count": null,
      "outputs": []
    },
    {
      "cell_type": "markdown",
      "metadata": {
        "id": "5q9a1du1fwe6"
      },
      "source": [
        "# **Giải thích thư viện**\n",
        "`import numpy as np` Xử lý một số toán học\n",
        "\n",
        "`import matplotlib.pyplot as plt`  Thư viện đồ thị trực quan, hình ảnh,...\n",
        "\n",
        "`from pathlib import Path`\n",
        "\n",
        "`import os`\n",
        "\n",
        "`import cv2`   Xử lý chuyển đổi đồng nhất kích thước, màu sắc ảnh\n",
        "\n",
        "`import random`\n",
        "\n",
        "`import pickle`  Lưu \n",
        "\n",
        "`import tensorflow as tf`\n",
        "\n",
        "`from tensorflow.keras.models import Sequential`   Khỏi tạo một mô hình neural network\n",
        "\n",
        "`from tensorflow.keras.layers import Dense, Dropout, Activation, Flatten, Conv2D, MaxPool2D`\n",
        "\n",
        "`Dense` là tạo một layer\n",
        "\n",
        "`Activation` là hàm kích hoạt\n",
        "\n",
        "`Flatten` là layer làm phẳng từ ma trân m x n sang ma tran 1 x k\n",
        "\n",
        "`Conv2D` ~ Convolutional 2D mạng tích chập 2 chiều\n",
        "\n",
        "`MaxPool2D` là hàm tinh giảm số neural\n",
        "\n",
        "`from tensorflow.keras.utils import to_categorical`  One hot\n",
        "\n",
        "`from sklearn.model_selection import train_test_split`   train test validation"
      ]
    },
    {
      "cell_type": "code",
      "metadata": {
        "id": "nsbwyqgL61_P",
        "colab": {
          "base_uri": "https://localhost:8080/"
        },
        "outputId": "0afaadb5-b0a9-49fa-f1d9-4c15e009133f"
      },
      "source": [
        "from google.colab import drive\n",
        "drive.mount('/content/drive')"
      ],
      "execution_count": null,
      "outputs": [
        {
          "output_type": "stream",
          "text": [
            "Drive already mounted at /content/drive; to attempt to forcibly remount, call drive.mount(\"/content/drive\", force_remount=True).\n"
          ],
          "name": "stdout"
        }
      ]
    },
    {
      "cell_type": "code",
      "metadata": {
        "id": "-Xv3pzOatAoa"
      },
      "source": [
        "import numpy as np # Xử lý một số toán học\n",
        "import matplotlib.pyplot as plt # Thư viện đồ thị trực quan, hình ảnh,...\n",
        "from pathlib import Path\n",
        "import os\n",
        "import cv2 \n",
        "import random\n",
        "import pickle\n",
        "import tensorflow as tf\n",
        "from tensorflow import keras\n",
        "from tensorflow.keras.models import Sequential\n",
        "from tensorflow.keras.layers import Dense, Dropout, Activation, Flatten, Conv2D, MaxPool2D\n",
        "from tensorflow.keras.utils import to_categorical\n",
        "from sklearn.model_selection import train_test_split"
      ],
      "execution_count": null,
      "outputs": []
    },
    {
      "cell_type": "markdown",
      "metadata": {
        "id": "drHOJuKXeXem"
      },
      "source": [
        "`data_dir = Path(data_dir)`    Chuyển đường dẫn đến dataset thành một Path Object\n",
        "\n",
        "`categories = os.listdir(data_dir)` \n",
        " Vì cấu trúc file là :\n",
        "\n",
        "```\n",
        "path/to/image_dir/\n",
        "  split_name/  # Ex: 'train'\n",
        "      label1/  # Ex: 'airplane' or '0015'\n",
        "          xxx.png\n",
        "          xxy.png\n",
        "          xxz.png\n",
        "      label2/\n",
        "          xxx.png\n",
        "          xxy.png\n",
        "          xxz.png\n",
        "      split_name/  # Ex: 'test'\n",
        "\n",
        "```\n",
        "=> nên ta muốn lưu toàn bộ label vào trong categories\n",
        "\n",
        "Bộ dữ liệu này có tới 17 label; `80 samples/1 label => có 80 * 17 = 1360` samples\n",
        "\n",
        "Chạy lênh sau để in ra số ảnh trong dataset:\n",
        "```\n",
        "count_image = len(list(data_dir.glob(\"*/*.jpg\")))\n",
        "print(count_image)\n",
        "```\n",
        "jpg là đuôi ảnh, */*.jpg nghĩa là ngay sau đường dẫn đễn dataset * đầu tiên là mở toàn bộ folder ngay cùng cấp ngay sau đó (tức là label1, label2, ...) / * là chọn tất cả tên file với đuôi là jpg. Trong trường hợp ảnh có nhiều loài thì chọn `.*` để chọn toàn bộ loại ảnh (cần lưu ý dữ liệu lúc này có chắc chắn toàn bộ ảnh hay không, hoặc là design theo những đuôi ảnh nhất định thì tốt hơn)\n",
        "\n",
        "Chạy: `print(len(categories))` để xem số lượng label\n"
      ]
    },
    {
      "cell_type": "code",
      "metadata": {
        "id": "KHyig_7ntS05"
      },
      "source": [
        "data_dir = \"/content/drive/MyDrive/Colab Notebooks/Dataset\"\n",
        "data_dir = Path(data_dir)  \n",
        "categories = os.listdir(data_dir) "
      ],
      "execution_count": null,
      "outputs": []
    },
    {
      "cell_type": "code",
      "metadata": {
        "colab": {
          "base_uri": "https://localhost:8080/"
        },
        "id": "JRS9x2kr3NsU",
        "outputId": "d763d3ce-f001-4edd-c8cb-701935b2ffae"
      },
      "source": [
        "count_image = len(list(data_dir.glob(\"*/*.tif\")))\n",
        "print(count_image)\n",
        "print(len(categories))"
      ],
      "execution_count": null,
      "outputs": [
        {
          "output_type": "stream",
          "text": [
            "492\n",
            "4\n"
          ],
          "name": "stdout"
        }
      ]
    },
    {
      "cell_type": "code",
      "metadata": {
        "colab": {
          "base_uri": "https://localhost:8080/"
        },
        "id": "Qq7jX18xkHdG",
        "outputId": "0e2e6f6f-79e6-44d1-f377-d8dcdbe09b8d"
      },
      "source": [
        "#categories.index('InSitu')\n",
        "categories.index('Normal')"
      ],
      "execution_count": null,
      "outputs": [
        {
          "output_type": "execute_result",
          "data": {
            "text/plain": [
              "1"
            ]
          },
          "metadata": {
            "tags": []
          },
          "execution_count": 19
        }
      ]
    },
    {
      "cell_type": "markdown",
      "metadata": {
        "id": "wUDP4N_htN1i"
      },
      "source": [
        "# **Quá trình tạo tập dữ liệu**"
      ]
    },
    {
      "cell_type": "code",
      "metadata": {
        "id": "XyJMnKNn2TN2"
      },
      "source": [
        "training_data = []  # Toàn bộ dữ liệu chúng ta có thể sử dụng, phân biệt giữa training data, x_train, y_train, x_test, y_test, x_val và y_val\n",
        "# training data = [x_train, y_train] + [x_test, y_test] + [x_val, y_val]\n",
        "#500\n",
        "IMG_SIZE = 250  # Trong hướng dẫn này, lựa chọn đưa toàn bộ ảnh về cùng kích thước 200 x 200, (bộ dữ liệu với nhiều loại kích thước ảnh)\n",
        "def create_training_data():\n",
        "  for category in categories: # Duyệt qua từng folder label\n",
        "    path = os.path.join(data_dir, category) # tạo một path tạm đến folder label đó \n",
        "    label_number = categories.index(category) # label thứ mấy trong mảng categories chứa các label\n",
        "    for img in os.listdir(path):  # duyệt qua toàn bộ ảnh trong path\n",
        "      try:\n",
        "        img_array_gray = cv2.imread(os.path.join(path, img), cv2.IMREAD_ANYCOLOR) # Đọc mảng giá trị của ảnh, ở đây không chuyển ảnh thành gray\n",
        "        new_img_array = cv2.resize(img_array_gray, (IMG_SIZE, IMG_SIZE), interpolation = cv2.INTER_AREA)  # Chuyển ảnh về cùng kích thước\n",
        "        training_data.append([new_img_array, label_number]) # Lưu ảnh cùng label tương ứng vào training_data\n",
        "      except Exception as e:\n",
        "        pass\n",
        "\n",
        "create_training_data()\n"
      ],
      "execution_count": null,
      "outputs": []
    },
    {
      "cell_type": "code",
      "metadata": {
        "colab": {
          "base_uri": "https://localhost:8080/"
        },
        "id": "1xxmqgM9_l86",
        "outputId": "aa1aca12-ac8b-4a0f-afa0-770207f0cc0a"
      },
      "source": [
        "print(len(training_data))"
      ],
      "execution_count": null,
      "outputs": [
        {
          "output_type": "stream",
          "text": [
            "492\n"
          ],
          "name": "stdout"
        }
      ]
    },
    {
      "cell_type": "code",
      "metadata": {
        "id": "XIqcCYe_HLbP"
      },
      "source": [
        "random.shuffle(training_data) # xáo trộn dữ liệu"
      ],
      "execution_count": null,
      "outputs": []
    },
    {
      "cell_type": "code",
      "metadata": {
        "id": "AS9s4k2AHbWj"
      },
      "source": [
        "# Tạo 2 mảng để lưu samples và labels theo cùng index tương ứng\n",
        "X = []  # samples\n",
        "y = []  # labels"
      ],
      "execution_count": null,
      "outputs": []
    },
    {
      "cell_type": "code",
      "metadata": {
        "id": "A6IVD2SFHyHf"
      },
      "source": [
        "for feature, label in training_data:  # Mỗi phần tử trong training_data có dạng [feature, label] trong đó feature = new_img_array và label = label_number\n",
        "  X.append(feature)\n",
        "  y.append(label)\n",
        "\n",
        "# X bây giờ chứa toàn bộ features\n",
        "# Chuyển X về dạng ma trận\n",
        "# -1 ở đây tương đương với số lượng features, dùng -1 numpy tự hiểu là ứng với số lượng của feature hiện có trong X\n",
        "# Vì không chuyển thành ảnh trắng đen nên ảnh có 3 kênh màu, tham số cuối cùng trong reshape\n",
        "X = np.array(X).reshape(-1, IMG_SIZE, IMG_SIZE, 3)"
      ],
      "execution_count": null,
      "outputs": []
    },
    {
      "cell_type": "markdown",
      "metadata": {
        "id": "l2JjQEwyvMik"
      },
      "source": [
        "Tách training_data thành tập train và test.\n",
        "*   X_train, y_train\n",
        "*   X_test, y_test\n",
        "\n",
        "---\n",
        "Tập test sẽ có kích thước bằng 20% data set\n",
        "\n",
        "\n"
      ]
    },
    {
      "cell_type": "code",
      "metadata": {
        "id": "HJiSoX7avMEM"
      },
      "source": [
        "X_train, X_test, y_train, y_test = train_test_split(X, y, test_size=0.2, random_state=42)\n"
      ],
      "execution_count": null,
      "outputs": []
    },
    {
      "cell_type": "code",
      "metadata": {
        "colab": {
          "base_uri": "https://localhost:8080/"
        },
        "id": "IvUxRIigwKoc",
        "outputId": "eac92ee1-6b8f-45cc-cb97-1d355dadd9db"
      },
      "source": [
        "print(len(X_train))"
      ],
      "execution_count": null,
      "outputs": [
        {
          "output_type": "stream",
          "text": [
            "393\n"
          ],
          "name": "stdout"
        }
      ]
    },
    {
      "cell_type": "code",
      "metadata": {
        "colab": {
          "base_uri": "https://localhost:8080/"
        },
        "id": "afYxHq3WwKzp",
        "outputId": "cbdac05a-0a46-4a8c-cb7b-28049a9fffd8"
      },
      "source": [
        "print(len(X_test))"
      ],
      "execution_count": null,
      "outputs": [
        {
          "output_type": "stream",
          "text": [
            "99\n"
          ],
          "name": "stdout"
        }
      ]
    },
    {
      "cell_type": "code",
      "metadata": {
        "id": "kbwLhc0dj0TR"
      },
      "source": [
        "# Bước này dùng để lưu X và y vào một file theo định dạng có cấu trúc để khỏi phải chạy lại hàm tạo X, y phía trên - khá tốn thời gian cho việc tạo lại từ đầu\n",
        "pickle_out = open(\"/content/drive/MyDrive/Colab Notebooks/X.pickle\", \"wb\")\n",
        "pickle.dump(X, pickle_out)\n",
        "pickle_out.close()\n",
        "\n",
        "pickle_out = open(\"/content/drive/MyDrive/Colab Notebooks/y.pickle\", \"wb\")\n",
        "pickle.dump(y, pickle_out)\n",
        "pickle_out.close()\n",
        "\n",
        "#train\n",
        "pickle_out = open(\"/content/drive/MyDrive/Colab Notebooks/X_train.pickle\", \"wb\")\n",
        "pickle.dump(X_train, pickle_out)\n",
        "pickle_out.close()\n",
        "\n",
        "pickle_out = open(\"/content/drive/MyDrive/Colab Notebooks/y_train.pickle\", \"wb\")\n",
        "pickle.dump(y_train, pickle_out)\n",
        "pickle_out.close()\n",
        "\n",
        "#test\n",
        "pickle_out = open(\"/content/drive/MyDrive/Colab Notebooks/X_test.pickle\", \"wb\")\n",
        "pickle.dump(X_test, pickle_out)\n",
        "pickle_out.close()\n",
        "\n",
        "pickle_out = open(\"/content/drive/MyDrive/Colab Notebooks/y_test.pickle\", \"wb\")\n",
        "pickle.dump(y_test, pickle_out)\n",
        "pickle_out.close()"
      ],
      "execution_count": null,
      "outputs": []
    },
    {
      "cell_type": "code",
      "metadata": {
        "id": "sVkfv55rka05"
      },
      "source": [
        "# Đọc lại file cấu trúc đã lưu\n",
        "#pickle_in = open(\"/content/drive/MyDrive/Colab Notebooks/LabDL/X.pickle\", \"rb\")\n",
        "#X = pickle.load(pickle_in)\n",
        "#pickle_in.close()\n",
        "\n",
        "#pickle_in = open(\"/content/drive/MyDrive/Colab Notebooks/LabDL/y.pickle\", \"rb\")\n",
        "#y = pickle.load(pickle_in)\n",
        "#pickle_in.close()\n",
        "\n",
        "#train\n",
        "pickle_in = open(\"/content/drive/MyDrive/Colab Notebooks/X_train.pickle\", \"rb\")\n",
        "X_train = pickle.load(pickle_in)\n",
        "pickle_in.close()\n",
        "\n",
        "pickle_in = open(\"/content/drive/MyDrive/Colab Notebooks/y_train.pickle\", \"rb\")\n",
        "y_train = pickle.load(pickle_in)\n",
        "pickle_in.close()\n",
        "\n",
        "#test\n",
        "pickle_in = open(\"/content/drive/MyDrive/Colab Notebooks/X_test.pickle\", \"rb\")\n",
        "X_test = pickle.load(pickle_in)\n",
        "pickle_in.close()\n",
        "\n",
        "pickle_in = open(\"/content/drive/MyDrive/Colab Notebooks/y_test.pickle\", \"rb\")\n",
        "y_test = pickle.load(pickle_in)\n",
        "pickle_in.close()"
      ],
      "execution_count": null,
      "outputs": []
    },
    {
      "cell_type": "code",
      "metadata": {
        "id": "Mv67AuWyktzy"
      },
      "source": [
        "#X = X/255  # Tinh giảm giá trị trong điểm ảnh (vì giá trị màu chạy từ 0 --> 255 nên mới có con số 255 ở đây)\n",
        "#y = to_categorical(y) # one hot\n",
        "# ví dụ y_number = 14 thì y = [0. 0. 0. 0. 0. 0. 0. 0. 0. 0. 0. 0. 0. 0. 1. 0. 0.]\n",
        "\n",
        "X_train = X_train/255\n",
        "y_train = to_categorical(y_train)\n",
        "\n",
        "X_test = X_test/255\n",
        "y_test = to_categorical(y_test)"
      ],
      "execution_count": null,
      "outputs": []
    },
    {
      "cell_type": "markdown",
      "metadata": {
        "id": "b37vfofVtYLR"
      },
      "source": [
        "# **Xây dựng model**"
      ]
    },
    {
      "cell_type": "code",
      "metadata": {
        "id": "AJoRlb6zPW1q"
      },
      "source": [
        "# load lại model cũ đã lưu\n",
        "#model = tf.keras.models.load_model('/content/drive/MyDrive/Colab Notebooks/LabDL/my_model/my_model.h5')\n",
        "#model.summary()"
      ],
      "execution_count": null,
      "outputs": []
    },
    {
      "cell_type": "code",
      "metadata": {
        "id": "XyUVDKzskvat",
        "colab": {
          "base_uri": "https://localhost:8080/"
        },
        "outputId": "01654acc-91ae-4b5f-ca17-46689312a370"
      },
      "source": [
        "model = Sequential() #  Khởi tạo một một mô hình neural\n",
        "\n",
        "# Bắt đầu của mạng thêm một Convolutional layer với các tham số trên\n",
        "# https://www.tensorflow.org/api_docs/python/tf/keras/layers/Conv2D\n",
        "# Lớp ban đầu này phải truyền cho mạng biết input_shape ban đầu là bao nhiêu chính là (weight x heigh x depth) của ảnh\n",
        "# padding chỉ có thể chọn 1 trong 2 giá trị `same` hoặc `valid`\n",
        "model.add(Conv2D(filters=64, kernel_size=(3,3), input_shape=X.shape[1:], padding=\"same\"))\n",
        "\n",
        "# Thêm cho layer trên một hàm kích hoạt\n",
        "model.add(Activation(\"relu\"))\n",
        "# Tinh giảm số neural của output nếu cần thiết\n",
        "model.add(MaxPool2D(pool_size=(2, 2), strides=2))\n",
        "\n",
        "model.add(Conv2D(filters=64, kernel_size=(3,3)))\n",
        "model.add(Activation(\"relu\"))\n",
        "model.add(MaxPool2D(pool_size=(2, 2), strides=2))\n",
        "\n",
        "model.add(Conv2D(filters=64, kernel_size=(3,3)))\n",
        "model.add(Activation(\"relu\"))\n",
        "model.add(MaxPool2D(pool_size=(2, 2), strides=2))\n",
        "\n",
        "# Làm phẳng neuron, bắt đầu fully connected\n",
        "model.add(Flatten())\n",
        "\n",
        "# Tạo một layer\n",
        "model.add(Dense(128))\n",
        "# Thêm hàm kích hoạt\n",
        "model.add(Activation(\"relu\"))\n",
        "#model.add(Dropout(0.5))\n",
        "\n",
        "model.add(Dense(128))\n",
        "model.add(Activation(\"relu\"))\n",
        "\n",
        "model.add(Dense(64))\n",
        "model.add(Activation(\"relu\"))\n",
        "\n",
        "model.add(Dense(64))\n",
        "model.add(Activation(\"relu\"))\n",
        "\n",
        "# output\n",
        "model.add(Dense(4))\n",
        "model.add(Activation(\"softmax\"))\n",
        "\n",
        "# Cung cấp cho mô hình hàm loss function lựa chọn, thuật toán tối ưu\n",
        "model.compile('adam', 'binary_crossentropy', metrics='accuracy')\n",
        "model.summary() # xem chi tiết mô hình xây dựng của chính mình\n",
        "\n",
        "# Cuối cùng đào tạo nó\n",
        "history = model.fit(X_train, y_train, batch_size=128, epochs=200)\n",
        "\n",
        "!mkdir -p saved_model\n",
        "model.save('/content/drive/MyDrive/Colab Notebooks/my_model/my_model.h5') "
      ],
      "execution_count": null,
      "outputs": [
        {
          "output_type": "stream",
          "text": [
            "Model: \"sequential\"\n",
            "_________________________________________________________________\n",
            "Layer (type)                 Output Shape              Param #   \n",
            "=================================================================\n",
            "conv2d (Conv2D)              (None, 250, 250, 64)      1792      \n",
            "_________________________________________________________________\n",
            "activation (Activation)      (None, 250, 250, 64)      0         \n",
            "_________________________________________________________________\n",
            "max_pooling2d (MaxPooling2D) (None, 125, 125, 64)      0         \n",
            "_________________________________________________________________\n",
            "conv2d_1 (Conv2D)            (None, 123, 123, 64)      36928     \n",
            "_________________________________________________________________\n",
            "activation_1 (Activation)    (None, 123, 123, 64)      0         \n",
            "_________________________________________________________________\n",
            "max_pooling2d_1 (MaxPooling2 (None, 61, 61, 64)        0         \n",
            "_________________________________________________________________\n",
            "conv2d_2 (Conv2D)            (None, 59, 59, 64)        36928     \n",
            "_________________________________________________________________\n",
            "activation_2 (Activation)    (None, 59, 59, 64)        0         \n",
            "_________________________________________________________________\n",
            "max_pooling2d_2 (MaxPooling2 (None, 29, 29, 64)        0         \n",
            "_________________________________________________________________\n",
            "flatten (Flatten)            (None, 53824)             0         \n",
            "_________________________________________________________________\n",
            "dense (Dense)                (None, 128)               6889600   \n",
            "_________________________________________________________________\n",
            "activation_3 (Activation)    (None, 128)               0         \n",
            "_________________________________________________________________\n",
            "dense_1 (Dense)              (None, 128)               16512     \n",
            "_________________________________________________________________\n",
            "activation_4 (Activation)    (None, 128)               0         \n",
            "_________________________________________________________________\n",
            "dense_2 (Dense)              (None, 64)                8256      \n",
            "_________________________________________________________________\n",
            "activation_5 (Activation)    (None, 64)                0         \n",
            "_________________________________________________________________\n",
            "dense_3 (Dense)              (None, 64)                4160      \n",
            "_________________________________________________________________\n",
            "activation_6 (Activation)    (None, 64)                0         \n",
            "_________________________________________________________________\n",
            "dense_4 (Dense)              (None, 4)                 260       \n",
            "_________________________________________________________________\n",
            "activation_7 (Activation)    (None, 4)                 0         \n",
            "=================================================================\n",
            "Total params: 6,994,436\n",
            "Trainable params: 6,994,436\n",
            "Non-trainable params: 0\n",
            "_________________________________________________________________\n",
            "Epoch 1/200\n",
            "4/4 [==============================] - 37s 345ms/step - loss: 0.6666 - accuracy: 0.5512\n",
            "Epoch 2/200\n",
            "4/4 [==============================] - 1s 195ms/step - loss: 0.5242 - accuracy: 0.4016\n",
            "Epoch 3/200\n",
            "4/4 [==============================] - 1s 199ms/step - loss: 0.5206 - accuracy: 0.5431\n",
            "Epoch 4/200\n",
            "4/4 [==============================] - 1s 197ms/step - loss: 0.4934 - accuracy: 0.5506\n",
            "Epoch 5/200\n",
            "4/4 [==============================] - 1s 192ms/step - loss: 0.5014 - accuracy: 0.5392\n",
            "Epoch 6/200\n",
            "4/4 [==============================] - 1s 195ms/step - loss: 0.5074 - accuracy: 0.5228\n",
            "Epoch 7/200\n",
            "4/4 [==============================] - 1s 191ms/step - loss: 0.4792 - accuracy: 0.5363\n",
            "Epoch 8/200\n",
            "4/4 [==============================] - 1s 200ms/step - loss: 0.4677 - accuracy: 0.5462\n",
            "Epoch 9/200\n",
            "4/4 [==============================] - 1s 196ms/step - loss: 0.4445 - accuracy: 0.5783\n",
            "Epoch 10/200\n",
            "4/4 [==============================] - 1s 198ms/step - loss: 0.4830 - accuracy: 0.4981\n",
            "Epoch 11/200\n",
            "4/4 [==============================] - 1s 194ms/step - loss: 0.4711 - accuracy: 0.5395\n",
            "Epoch 12/200\n",
            "4/4 [==============================] - 1s 201ms/step - loss: 0.4162 - accuracy: 0.6456\n",
            "Epoch 13/200\n",
            "4/4 [==============================] - 1s 196ms/step - loss: 0.3976 - accuracy: 0.7039\n",
            "Epoch 14/200\n",
            "4/4 [==============================] - 1s 191ms/step - loss: 0.4108 - accuracy: 0.6832\n",
            "Epoch 15/200\n",
            "4/4 [==============================] - 1s 191ms/step - loss: 0.3894 - accuracy: 0.6727\n",
            "Epoch 16/200\n",
            "4/4 [==============================] - 1s 191ms/step - loss: 0.3737 - accuracy: 0.6892\n",
            "Epoch 17/200\n",
            "4/4 [==============================] - 1s 200ms/step - loss: 0.3677 - accuracy: 0.6876\n",
            "Epoch 18/200\n",
            "4/4 [==============================] - 1s 196ms/step - loss: 0.3861 - accuracy: 0.6821\n",
            "Epoch 19/200\n",
            "4/4 [==============================] - 1s 192ms/step - loss: 0.3511 - accuracy: 0.7313\n",
            "Epoch 20/200\n",
            "4/4 [==============================] - 1s 201ms/step - loss: 0.3345 - accuracy: 0.7276\n",
            "Epoch 21/200\n",
            "4/4 [==============================] - 1s 199ms/step - loss: 0.3416 - accuracy: 0.7213\n",
            "Epoch 22/200\n",
            "4/4 [==============================] - 1s 205ms/step - loss: 0.3620 - accuracy: 0.7015\n",
            "Epoch 23/200\n",
            "4/4 [==============================] - 1s 204ms/step - loss: 0.3061 - accuracy: 0.7353\n",
            "Epoch 24/200\n",
            "4/4 [==============================] - 1s 193ms/step - loss: 0.3045 - accuracy: 0.7324\n",
            "Epoch 25/200\n",
            "4/4 [==============================] - 1s 202ms/step - loss: 0.3040 - accuracy: 0.7289\n",
            "Epoch 26/200\n",
            "4/4 [==============================] - 1s 198ms/step - loss: 0.3611 - accuracy: 0.6818\n",
            "Epoch 27/200\n",
            "4/4 [==============================] - 1s 200ms/step - loss: 0.3035 - accuracy: 0.7660\n",
            "Epoch 28/200\n",
            "4/4 [==============================] - 1s 195ms/step - loss: 0.2982 - accuracy: 0.7611\n",
            "Epoch 29/200\n",
            "4/4 [==============================] - 1s 190ms/step - loss: 0.3283 - accuracy: 0.7166\n",
            "Epoch 30/200\n",
            "4/4 [==============================] - 1s 197ms/step - loss: 0.2992 - accuracy: 0.7683\n",
            "Epoch 31/200\n",
            "4/4 [==============================] - 1s 198ms/step - loss: 0.3146 - accuracy: 0.7492\n",
            "Epoch 32/200\n",
            "4/4 [==============================] - 1s 197ms/step - loss: 0.3173 - accuracy: 0.7157\n",
            "Epoch 33/200\n",
            "4/4 [==============================] - 1s 192ms/step - loss: 0.3123 - accuracy: 0.7209\n",
            "Epoch 34/200\n",
            "4/4 [==============================] - 1s 202ms/step - loss: 0.2937 - accuracy: 0.7508\n",
            "Epoch 35/200\n",
            "4/4 [==============================] - 1s 192ms/step - loss: 0.3180 - accuracy: 0.7359\n",
            "Epoch 36/200\n",
            "4/4 [==============================] - 1s 194ms/step - loss: 0.3346 - accuracy: 0.7125\n",
            "Epoch 37/200\n",
            "4/4 [==============================] - 1s 201ms/step - loss: 0.3075 - accuracy: 0.7642\n",
            "Epoch 38/200\n",
            "4/4 [==============================] - 1s 199ms/step - loss: 0.3930 - accuracy: 0.6766\n",
            "Epoch 39/200\n",
            "4/4 [==============================] - 1s 194ms/step - loss: 0.3140 - accuracy: 0.7388\n",
            "Epoch 40/200\n",
            "4/4 [==============================] - 1s 194ms/step - loss: 0.3211 - accuracy: 0.7534\n",
            "Epoch 41/200\n",
            "4/4 [==============================] - 1s 194ms/step - loss: 0.2730 - accuracy: 0.7422\n",
            "Epoch 42/200\n",
            "4/4 [==============================] - 1s 197ms/step - loss: 0.2549 - accuracy: 0.7838\n",
            "Epoch 43/200\n",
            "4/4 [==============================] - 1s 194ms/step - loss: 0.2621 - accuracy: 0.7790\n",
            "Epoch 44/200\n",
            "4/4 [==============================] - 1s 195ms/step - loss: 0.2805 - accuracy: 0.7497\n",
            "Epoch 45/200\n",
            "4/4 [==============================] - 1s 199ms/step - loss: 0.2348 - accuracy: 0.7950\n",
            "Epoch 46/200\n",
            "4/4 [==============================] - 1s 195ms/step - loss: 0.2339 - accuracy: 0.8003\n",
            "Epoch 47/200\n",
            "4/4 [==============================] - 1s 193ms/step - loss: 0.2759 - accuracy: 0.7370\n",
            "Epoch 48/200\n",
            "4/4 [==============================] - 1s 196ms/step - loss: 0.3784 - accuracy: 0.6516\n",
            "Epoch 49/200\n",
            "4/4 [==============================] - 1s 193ms/step - loss: 0.2920 - accuracy: 0.7913\n",
            "Epoch 50/200\n",
            "4/4 [==============================] - 1s 202ms/step - loss: 0.2854 - accuracy: 0.7303\n",
            "Epoch 51/200\n",
            "4/4 [==============================] - 1s 206ms/step - loss: 0.2888 - accuracy: 0.7588\n",
            "Epoch 52/200\n",
            "4/4 [==============================] - 1s 200ms/step - loss: 0.2429 - accuracy: 0.7772\n",
            "Epoch 53/200\n",
            "4/4 [==============================] - 1s 202ms/step - loss: 0.2134 - accuracy: 0.7852\n",
            "Epoch 54/200\n",
            "4/4 [==============================] - 1s 197ms/step - loss: 0.2111 - accuracy: 0.7989\n",
            "Epoch 55/200\n",
            "4/4 [==============================] - 1s 201ms/step - loss: 0.2539 - accuracy: 0.7911\n",
            "Epoch 56/200\n",
            "4/4 [==============================] - 1s 193ms/step - loss: 0.2105 - accuracy: 0.8482\n",
            "Epoch 57/200\n",
            "4/4 [==============================] - 1s 201ms/step - loss: 0.1953 - accuracy: 0.8142\n",
            "Epoch 58/200\n",
            "4/4 [==============================] - 1s 204ms/step - loss: 0.2244 - accuracy: 0.7747\n",
            "Epoch 59/200\n",
            "4/4 [==============================] - 1s 202ms/step - loss: 0.2693 - accuracy: 0.7589\n",
            "Epoch 60/200\n",
            "4/4 [==============================] - 1s 198ms/step - loss: 0.2168 - accuracy: 0.7891\n",
            "Epoch 61/200\n",
            "4/4 [==============================] - 1s 198ms/step - loss: 0.2151 - accuracy: 0.8038\n",
            "Epoch 62/200\n",
            "4/4 [==============================] - 1s 203ms/step - loss: 0.1909 - accuracy: 0.8674\n",
            "Epoch 63/200\n",
            "4/4 [==============================] - 1s 193ms/step - loss: 0.1969 - accuracy: 0.8395\n",
            "Epoch 64/200\n",
            "4/4 [==============================] - 1s 203ms/step - loss: 0.2086 - accuracy: 0.8193\n",
            "Epoch 65/200\n",
            "4/4 [==============================] - 1s 195ms/step - loss: 0.2008 - accuracy: 0.8084\n",
            "Epoch 66/200\n",
            "4/4 [==============================] - 1s 196ms/step - loss: 0.1756 - accuracy: 0.8604\n",
            "Epoch 67/200\n",
            "4/4 [==============================] - 1s 205ms/step - loss: 0.1731 - accuracy: 0.8695\n",
            "Epoch 68/200\n",
            "4/4 [==============================] - 1s 201ms/step - loss: 0.1810 - accuracy: 0.8460\n",
            "Epoch 69/200\n",
            "4/4 [==============================] - 1s 202ms/step - loss: 0.2185 - accuracy: 0.7975\n",
            "Epoch 70/200\n",
            "4/4 [==============================] - 1s 200ms/step - loss: 0.1878 - accuracy: 0.8591\n",
            "Epoch 71/200\n",
            "4/4 [==============================] - 1s 195ms/step - loss: 0.1534 - accuracy: 0.8720\n",
            "Epoch 72/200\n",
            "4/4 [==============================] - 1s 202ms/step - loss: 0.1575 - accuracy: 0.8819\n",
            "Epoch 73/200\n",
            "4/4 [==============================] - 1s 192ms/step - loss: 0.1431 - accuracy: 0.8862\n",
            "Epoch 74/200\n",
            "4/4 [==============================] - 1s 200ms/step - loss: 0.1281 - accuracy: 0.9092\n",
            "Epoch 75/200\n",
            "4/4 [==============================] - 1s 201ms/step - loss: 0.1832 - accuracy: 0.8442\n",
            "Epoch 76/200\n",
            "4/4 [==============================] - 1s 195ms/step - loss: 0.1370 - accuracy: 0.8997\n",
            "Epoch 77/200\n",
            "4/4 [==============================] - 1s 205ms/step - loss: 0.1193 - accuracy: 0.9002\n",
            "Epoch 78/200\n",
            "4/4 [==============================] - 1s 196ms/step - loss: 0.1095 - accuracy: 0.9319\n",
            "Epoch 79/200\n",
            "4/4 [==============================] - 1s 197ms/step - loss: 0.1251 - accuracy: 0.8952\n",
            "Epoch 80/200\n",
            "4/4 [==============================] - 1s 199ms/step - loss: 0.1358 - accuracy: 0.8735\n",
            "Epoch 81/200\n",
            "4/4 [==============================] - 1s 196ms/step - loss: 0.1352 - accuracy: 0.8999\n",
            "Epoch 82/200\n",
            "4/4 [==============================] - 1s 203ms/step - loss: 0.1095 - accuracy: 0.9110\n",
            "Epoch 83/200\n",
            "4/4 [==============================] - 1s 196ms/step - loss: 0.1069 - accuracy: 0.9006\n",
            "Epoch 84/200\n",
            "4/4 [==============================] - 1s 205ms/step - loss: 0.0860 - accuracy: 0.9481\n",
            "Epoch 85/200\n",
            "4/4 [==============================] - 1s 199ms/step - loss: 0.1056 - accuracy: 0.9280\n",
            "Epoch 86/200\n",
            "4/4 [==============================] - 1s 195ms/step - loss: 0.1055 - accuracy: 0.9200\n",
            "Epoch 87/200\n",
            "4/4 [==============================] - 1s 194ms/step - loss: 0.0912 - accuracy: 0.9335\n",
            "Epoch 88/200\n",
            "4/4 [==============================] - 1s 204ms/step - loss: 0.1054 - accuracy: 0.9102\n",
            "Epoch 89/200\n",
            "4/4 [==============================] - 1s 204ms/step - loss: 0.0850 - accuracy: 0.9365\n",
            "Epoch 90/200\n",
            "4/4 [==============================] - 1s 207ms/step - loss: 0.0592 - accuracy: 0.9597\n",
            "Epoch 91/200\n",
            "4/4 [==============================] - 1s 205ms/step - loss: 0.0503 - accuracy: 0.9628\n",
            "Epoch 92/200\n",
            "4/4 [==============================] - 1s 201ms/step - loss: 0.0388 - accuracy: 0.9758\n",
            "Epoch 93/200\n",
            "4/4 [==============================] - 1s 201ms/step - loss: 0.0380 - accuracy: 0.9750\n",
            "Epoch 94/200\n",
            "4/4 [==============================] - 1s 201ms/step - loss: 0.0627 - accuracy: 0.9652\n",
            "Epoch 95/200\n",
            "4/4 [==============================] - 1s 204ms/step - loss: 0.0411 - accuracy: 0.9590\n",
            "Epoch 96/200\n",
            "4/4 [==============================] - 1s 205ms/step - loss: 0.0321 - accuracy: 0.9745\n",
            "Epoch 97/200\n",
            "4/4 [==============================] - 1s 202ms/step - loss: 0.0285 - accuracy: 0.9783\n",
            "Epoch 98/200\n",
            "4/4 [==============================] - 1s 199ms/step - loss: 0.0200 - accuracy: 0.9915\n",
            "Epoch 99/200\n",
            "4/4 [==============================] - 1s 195ms/step - loss: 0.0139 - accuracy: 0.9961\n",
            "Epoch 100/200\n",
            "4/4 [==============================] - 1s 199ms/step - loss: 0.0136 - accuracy: 0.9922\n",
            "Epoch 101/200\n",
            "4/4 [==============================] - 1s 199ms/step - loss: 0.0084 - accuracy: 0.9961\n",
            "Epoch 102/200\n",
            "4/4 [==============================] - 1s 206ms/step - loss: 0.0078 - accuracy: 0.9938\n",
            "Epoch 103/200\n",
            "4/4 [==============================] - 1s 206ms/step - loss: 0.0063 - accuracy: 0.9938\n",
            "Epoch 104/200\n",
            "4/4 [==============================] - 1s 206ms/step - loss: 0.0047 - accuracy: 0.9946\n",
            "Epoch 105/200\n",
            "4/4 [==============================] - 1s 202ms/step - loss: 0.0030 - accuracy: 1.0000\n",
            "Epoch 106/200\n",
            "4/4 [==============================] - 1s 201ms/step - loss: 0.0026 - accuracy: 1.0000\n",
            "Epoch 107/200\n",
            "4/4 [==============================] - 1s 204ms/step - loss: 0.0026 - accuracy: 0.9977\n",
            "Epoch 108/200\n",
            "4/4 [==============================] - 1s 198ms/step - loss: 0.0012 - accuracy: 1.0000\n",
            "Epoch 109/200\n",
            "4/4 [==============================] - 1s 198ms/step - loss: 0.0013 - accuracy: 1.0000\n",
            "Epoch 110/200\n",
            "4/4 [==============================] - 1s 201ms/step - loss: 0.0011 - accuracy: 1.0000\n",
            "Epoch 111/200\n",
            "4/4 [==============================] - 1s 205ms/step - loss: 0.0020 - accuracy: 1.0000\n",
            "Epoch 112/200\n",
            "4/4 [==============================] - 1s 201ms/step - loss: 0.0024 - accuracy: 1.0000\n",
            "Epoch 113/200\n",
            "4/4 [==============================] - 1s 206ms/step - loss: 0.0074 - accuracy: 0.9897\n",
            "Epoch 114/200\n",
            "4/4 [==============================] - 1s 202ms/step - loss: 0.1173 - accuracy: 0.9528\n",
            "Epoch 115/200\n",
            "4/4 [==============================] - 1s 202ms/step - loss: 0.4397 - accuracy: 0.7765\n",
            "Epoch 116/200\n",
            "4/4 [==============================] - 1s 197ms/step - loss: 0.2762 - accuracy: 0.7535\n",
            "Epoch 117/200\n",
            "4/4 [==============================] - 1s 196ms/step - loss: 0.2774 - accuracy: 0.7230\n",
            "Epoch 118/200\n",
            "4/4 [==============================] - 1s 199ms/step - loss: 0.2358 - accuracy: 0.7714\n",
            "Epoch 119/200\n",
            "4/4 [==============================] - 1s 204ms/step - loss: 0.2576 - accuracy: 0.8162\n",
            "Epoch 120/200\n",
            "4/4 [==============================] - 1s 197ms/step - loss: 0.2750 - accuracy: 0.7262\n",
            "Epoch 121/200\n",
            "4/4 [==============================] - 1s 200ms/step - loss: 0.1978 - accuracy: 0.8232\n",
            "Epoch 122/200\n",
            "4/4 [==============================] - 1s 196ms/step - loss: 0.1930 - accuracy: 0.8309\n",
            "Epoch 123/200\n",
            "4/4 [==============================] - 1s 200ms/step - loss: 0.1482 - accuracy: 0.9270\n",
            "Epoch 124/200\n",
            "4/4 [==============================] - 1s 199ms/step - loss: 0.1248 - accuracy: 0.9016\n",
            "Epoch 125/200\n",
            "4/4 [==============================] - 1s 200ms/step - loss: 0.1066 - accuracy: 0.9179\n",
            "Epoch 126/200\n",
            "4/4 [==============================] - 1s 207ms/step - loss: 0.0847 - accuracy: 0.9613\n",
            "Epoch 127/200\n",
            "4/4 [==============================] - 1s 206ms/step - loss: 0.0629 - accuracy: 0.9652\n",
            "Epoch 128/200\n",
            "4/4 [==============================] - 1s 198ms/step - loss: 0.0487 - accuracy: 0.9760\n",
            "Epoch 129/200\n",
            "4/4 [==============================] - 1s 205ms/step - loss: 0.0536 - accuracy: 0.9636\n",
            "Epoch 130/200\n",
            "4/4 [==============================] - 1s 208ms/step - loss: 0.0521 - accuracy: 0.9713\n",
            "Epoch 131/200\n",
            "4/4 [==============================] - 1s 209ms/step - loss: 0.0292 - accuracy: 0.9760\n",
            "Epoch 132/200\n",
            "4/4 [==============================] - 1s 205ms/step - loss: 0.0357 - accuracy: 0.9659\n",
            "Epoch 133/200\n",
            "4/4 [==============================] - 1s 199ms/step - loss: 0.0187 - accuracy: 0.9835\n",
            "Epoch 134/200\n",
            "4/4 [==============================] - 1s 202ms/step - loss: 0.0963 - accuracy: 0.9187\n",
            "Epoch 135/200\n",
            "4/4 [==============================] - 1s 202ms/step - loss: 0.1011 - accuracy: 0.9048\n",
            "Epoch 136/200\n",
            "4/4 [==============================] - 1s 199ms/step - loss: 0.1324 - accuracy: 0.8722\n",
            "Epoch 137/200\n",
            "4/4 [==============================] - 1s 197ms/step - loss: 0.1759 - accuracy: 0.8806\n",
            "Epoch 138/200\n",
            "4/4 [==============================] - 1s 210ms/step - loss: 0.1832 - accuracy: 0.9032\n",
            "Epoch 139/200\n",
            "4/4 [==============================] - 1s 201ms/step - loss: 0.1187 - accuracy: 0.9097\n",
            "Epoch 140/200\n",
            "4/4 [==============================] - 1s 198ms/step - loss: 0.1092 - accuracy: 0.9342\n",
            "Epoch 141/200\n",
            "4/4 [==============================] - 1s 208ms/step - loss: 0.0953 - accuracy: 0.9457\n",
            "Epoch 142/200\n",
            "4/4 [==============================] - 1s 198ms/step - loss: 0.1555 - accuracy: 0.8905\n",
            "Epoch 143/200\n",
            "4/4 [==============================] - 1s 204ms/step - loss: 0.1922 - accuracy: 0.8179\n",
            "Epoch 144/200\n",
            "4/4 [==============================] - 1s 200ms/step - loss: 0.1878 - accuracy: 0.7964\n",
            "Epoch 145/200\n",
            "4/4 [==============================] - 1s 207ms/step - loss: 0.1041 - accuracy: 0.9085\n",
            "Epoch 146/200\n",
            "4/4 [==============================] - 1s 196ms/step - loss: 0.0951 - accuracy: 0.9420\n",
            "Epoch 147/200\n",
            "4/4 [==============================] - 1s 200ms/step - loss: 0.1141 - accuracy: 0.9343\n",
            "Epoch 148/200\n",
            "4/4 [==============================] - 1s 206ms/step - loss: 0.0812 - accuracy: 0.9324\n",
            "Epoch 149/200\n",
            "4/4 [==============================] - 1s 204ms/step - loss: 0.2609 - accuracy: 0.8394\n",
            "Epoch 150/200\n",
            "4/4 [==============================] - 1s 208ms/step - loss: 0.1299 - accuracy: 0.8787\n",
            "Epoch 151/200\n",
            "4/4 [==============================] - 1s 207ms/step - loss: 0.0910 - accuracy: 0.9497\n",
            "Epoch 152/200\n",
            "4/4 [==============================] - 1s 201ms/step - loss: 0.1183 - accuracy: 0.9210\n",
            "Epoch 153/200\n",
            "4/4 [==============================] - 1s 202ms/step - loss: 0.0635 - accuracy: 0.9560\n",
            "Epoch 154/200\n",
            "4/4 [==============================] - 1s 200ms/step - loss: 0.0670 - accuracy: 0.9613\n",
            "Epoch 155/200\n",
            "4/4 [==============================] - 1s 205ms/step - loss: 0.0411 - accuracy: 0.9845\n",
            "Epoch 156/200\n",
            "4/4 [==============================] - 1s 201ms/step - loss: 0.0284 - accuracy: 0.9915\n",
            "Epoch 157/200\n",
            "4/4 [==============================] - 1s 197ms/step - loss: 0.0161 - accuracy: 0.9985\n",
            "Epoch 158/200\n",
            "4/4 [==============================] - 1s 198ms/step - loss: 0.0183 - accuracy: 0.9923\n",
            "Epoch 159/200\n",
            "4/4 [==============================] - 1s 204ms/step - loss: 0.0141 - accuracy: 0.9961\n",
            "Epoch 160/200\n",
            "4/4 [==============================] - 1s 206ms/step - loss: 0.0112 - accuracy: 0.9985\n",
            "Epoch 161/200\n",
            "4/4 [==============================] - 1s 203ms/step - loss: 0.0113 - accuracy: 0.9977\n",
            "Epoch 162/200\n",
            "4/4 [==============================] - 1s 208ms/step - loss: 0.0051 - accuracy: 1.0000\n",
            "Epoch 163/200\n",
            "4/4 [==============================] - 1s 208ms/step - loss: 0.0042 - accuracy: 1.0000\n",
            "Epoch 164/200\n",
            "4/4 [==============================] - 1s 206ms/step - loss: 0.0032 - accuracy: 1.0000\n",
            "Epoch 165/200\n",
            "4/4 [==============================] - 1s 203ms/step - loss: 0.0020 - accuracy: 0.9990\n",
            "Epoch 166/200\n",
            "4/4 [==============================] - 1s 201ms/step - loss: 0.0883 - accuracy: 0.9368\n",
            "Epoch 167/200\n",
            "4/4 [==============================] - 1s 201ms/step - loss: 0.1702 - accuracy: 0.8817\n",
            "Epoch 168/200\n",
            "4/4 [==============================] - 1s 208ms/step - loss: 0.2467 - accuracy: 0.8512\n",
            "Epoch 169/200\n",
            "4/4 [==============================] - 1s 208ms/step - loss: 0.1498 - accuracy: 0.9099\n",
            "Epoch 170/200\n",
            "4/4 [==============================] - 1s 201ms/step - loss: 0.0717 - accuracy: 0.9791\n",
            "Epoch 171/200\n",
            "4/4 [==============================] - 1s 199ms/step - loss: 0.0609 - accuracy: 0.9667\n",
            "Epoch 172/200\n",
            "4/4 [==============================] - 1s 205ms/step - loss: 0.0725 - accuracy: 0.9574\n",
            "Epoch 173/200\n",
            "4/4 [==============================] - 1s 198ms/step - loss: 0.0685 - accuracy: 0.9641\n",
            "Epoch 174/200\n",
            "4/4 [==============================] - 1s 201ms/step - loss: 0.0544 - accuracy: 0.9605\n",
            "Epoch 175/200\n",
            "4/4 [==============================] - 1s 209ms/step - loss: 0.0418 - accuracy: 0.9783\n",
            "Epoch 176/200\n",
            "4/4 [==============================] - 1s 208ms/step - loss: 0.0385 - accuracy: 0.9675\n",
            "Epoch 177/200\n",
            "4/4 [==============================] - 1s 201ms/step - loss: 0.0502 - accuracy: 0.9604\n",
            "Epoch 178/200\n",
            "4/4 [==============================] - 1s 202ms/step - loss: 0.0280 - accuracy: 0.9961\n",
            "Epoch 179/200\n",
            "4/4 [==============================] - 1s 211ms/step - loss: 0.0183 - accuracy: 0.9915\n",
            "Epoch 180/200\n",
            "4/4 [==============================] - 1s 205ms/step - loss: 0.0140 - accuracy: 0.9967\n",
            "Epoch 181/200\n",
            "4/4 [==============================] - 1s 199ms/step - loss: 0.0638 - accuracy: 0.9558\n",
            "Epoch 182/200\n",
            "4/4 [==============================] - 1s 202ms/step - loss: 0.0238 - accuracy: 0.9846\n",
            "Epoch 183/200\n",
            "4/4 [==============================] - 1s 207ms/step - loss: 0.0753 - accuracy: 0.9381\n",
            "Epoch 184/200\n",
            "4/4 [==============================] - 1s 203ms/step - loss: 0.0401 - accuracy: 0.9628\n",
            "Epoch 185/200\n",
            "4/4 [==============================] - 1s 208ms/step - loss: 0.0243 - accuracy: 0.9961\n",
            "Epoch 186/200\n",
            "4/4 [==============================] - 1s 208ms/step - loss: 0.0212 - accuracy: 0.9954\n",
            "Epoch 187/200\n",
            "4/4 [==============================] - 1s 202ms/step - loss: 0.0162 - accuracy: 0.9985\n",
            "Epoch 188/200\n",
            "4/4 [==============================] - 1s 197ms/step - loss: 0.0152 - accuracy: 0.9961\n",
            "Epoch 189/200\n",
            "4/4 [==============================] - 1s 198ms/step - loss: 0.0134 - accuracy: 0.9961\n",
            "Epoch 190/200\n",
            "4/4 [==============================] - 1s 204ms/step - loss: 0.0092 - accuracy: 0.9985\n",
            "Epoch 191/200\n",
            "4/4 [==============================] - 1s 202ms/step - loss: 0.0073 - accuracy: 1.0000\n",
            "Epoch 192/200\n",
            "4/4 [==============================] - 1s 202ms/step - loss: 0.0059 - accuracy: 1.0000\n",
            "Epoch 193/200\n",
            "4/4 [==============================] - 1s 199ms/step - loss: 0.0054 - accuracy: 0.9985\n",
            "Epoch 194/200\n",
            "4/4 [==============================] - 1s 206ms/step - loss: 0.0040 - accuracy: 0.9977\n",
            "Epoch 195/200\n",
            "4/4 [==============================] - 1s 205ms/step - loss: 0.0027 - accuracy: 1.0000\n",
            "Epoch 196/200\n",
            "4/4 [==============================] - 1s 208ms/step - loss: 0.0024 - accuracy: 1.0000\n",
            "Epoch 197/200\n",
            "4/4 [==============================] - 1s 207ms/step - loss: 0.0022 - accuracy: 1.0000\n",
            "Epoch 198/200\n",
            "4/4 [==============================] - 1s 201ms/step - loss: 0.0036 - accuracy: 1.0000\n",
            "Epoch 199/200\n",
            "4/4 [==============================] - 1s 206ms/step - loss: 0.0019 - accuracy: 1.0000\n",
            "Epoch 200/200\n",
            "4/4 [==============================] - 1s 194ms/step - loss: 0.0017 - accuracy: 1.0000\n"
          ],
          "name": "stdout"
        }
      ]
    },
    {
      "cell_type": "code",
      "metadata": {
        "colab": {
          "base_uri": "https://localhost:8080/",
          "height": 573
        },
        "id": "8aPw0eWe2-gI",
        "outputId": "8943b9da-b066-4bfb-de18-b5029cea1156"
      },
      "source": [
        "# list all data in history\n",
        "#print(history.history.keys())\n",
        "#print(model.metrics_names)\n",
        "# summarize history for accuracy\n",
        "plt.plot(history.history['accuracy'])\n",
        "plt.title('model accuracy')\n",
        "plt.ylabel('accuracy')\n",
        "plt.xlabel('epoch')\n",
        "plt.legend(['train', 'test'], loc='upper left')\n",
        "plt.show()\n",
        "# summarize history for loss\n",
        "plt.plot(history.history['loss'])\n",
        "plt.title('model loss')\n",
        "plt.ylabel('loss')\n",
        "plt.xlabel('epoch')\n",
        "plt.legend(['train', 'test'], loc='upper left')\n",
        "plt.show()"
      ],
      "execution_count": null,
      "outputs": [
        {
          "output_type": "display_data",
          "data": {
            "image/png": "[encoded data removed]",
            "text/plain": [
              "<Figure size 432x288 with 1 Axes>"
            ]
          },
          "metadata": {
            "tags": [],
            "needs_background": "light"
          }
        },
        {
          "output_type": "display_data",
          "data": {
            "image/png": "[encoded data removed]",
            "text/plain": [
              "<Figure size 432x288 with 1 Axes>"
            ]
          },
          "metadata": {
            "tags": [],
            "needs_background": "light"
          }
        }
      ]
    },
    {
      "cell_type": "code",
      "metadata": {
        "colab": {
          "base_uri": "https://localhost:8080/",
          "height": 180
        },
        "id": "EUGk0cPgCsnc",
        "outputId": "b8d60c6c-db6b-443b-8cbe-5bb0ccbab40f"
      },
      "source": [
        "score = model.evaluate(X_test, y_test, verbose=0)\n",
        "print(f'Test loss: {score[0]} / Test accuracy: {score[1]}')"
      ],
      "execution_count": null,
      "outputs": [
        {
          "output_type": "error",
          "ename": "NameError",
          "evalue": "ignored",
          "traceback": [
            "\u001b[0;31m---------------------------------------------------------------------------\u001b[0m",
            "\u001b[0;31mNameError\u001b[0m                                 Traceback (most recent call last)",
            "\u001b[0;32m<ipython-input-1-57c6fcea17c8>\u001b[0m in \u001b[0;36m<module>\u001b[0;34m()\u001b[0m\n\u001b[0;32m----> 1\u001b[0;31m \u001b[0mscore\u001b[0m \u001b[0;34m=\u001b[0m \u001b[0mmodel\u001b[0m\u001b[0;34m.\u001b[0m\u001b[0mevaluate\u001b[0m\u001b[0;34m(\u001b[0m\u001b[0mX_test\u001b[0m\u001b[0;34m,\u001b[0m \u001b[0my_test\u001b[0m\u001b[0;34m,\u001b[0m \u001b[0mverbose\u001b[0m\u001b[0;34m=\u001b[0m\u001b[0;36m0\u001b[0m\u001b[0;34m)\u001b[0m\u001b[0;34m\u001b[0m\u001b[0;34m\u001b[0m\u001b[0m\n\u001b[0m\u001b[1;32m      2\u001b[0m \u001b[0mprint\u001b[0m\u001b[0;34m(\u001b[0m\u001b[0;34mf'Test loss: {score[0]} / Test accuracy: {score[1]}'\u001b[0m\u001b[0;34m)\u001b[0m\u001b[0;34m\u001b[0m\u001b[0;34m\u001b[0m\u001b[0m\n",
            "\u001b[0;31mNameError\u001b[0m: name 'model' is not defined"
          ]
        }
      ]
    },
    {
      "cell_type": "code",
      "metadata": {
        "id": "5C4ETOx6mSBl",
        "colab": {
          "base_uri": "https://localhost:8080/",
          "height": 367
        },
        "outputId": "b6e09d7a-9bd7-4f3a-d2da-e71fbcb788ee"
      },
      "source": [
        "# Cuối cùng là dùng một mẫu để dự đoán\n",
        "i=100\n",
        "y_hat = model.predict(X_test[i:i+1])\n",
        "y_label = np.argmax(y_hat, axis=1)\n",
        "print(y_label)\n",
        "print(y_test[i])"
      ],
      "execution_count": null,
      "outputs": [
        {
          "output_type": "error",
          "ename": "ValueError",
          "evalue": "ignored",
          "traceback": [
            "\u001b[0;31m---------------------------------------------------------------------------\u001b[0m",
            "\u001b[0;31mValueError\u001b[0m                                Traceback (most recent call last)",
            "\u001b[0;32m<ipython-input-43-a54ff5de409a>\u001b[0m in \u001b[0;36m<module>\u001b[0;34m()\u001b[0m\n\u001b[1;32m      1\u001b[0m \u001b[0;31m# Cuối cùng là dùng một mẫu để dự đoán\u001b[0m\u001b[0;34m\u001b[0m\u001b[0;34m\u001b[0m\u001b[0;34m\u001b[0m\u001b[0m\n\u001b[1;32m      2\u001b[0m \u001b[0mi\u001b[0m\u001b[0;34m=\u001b[0m\u001b[0;36m100\u001b[0m\u001b[0;34m\u001b[0m\u001b[0;34m\u001b[0m\u001b[0m\n\u001b[0;32m----> 3\u001b[0;31m \u001b[0my_hat\u001b[0m \u001b[0;34m=\u001b[0m \u001b[0mmodel\u001b[0m\u001b[0;34m.\u001b[0m\u001b[0mpredict\u001b[0m\u001b[0;34m(\u001b[0m\u001b[0mX_test\u001b[0m\u001b[0;34m[\u001b[0m\u001b[0mi\u001b[0m\u001b[0;34m:\u001b[0m\u001b[0mi\u001b[0m\u001b[0;34m+\u001b[0m\u001b[0;36m1\u001b[0m\u001b[0;34m]\u001b[0m\u001b[0;34m)\u001b[0m\u001b[0;34m\u001b[0m\u001b[0;34m\u001b[0m\u001b[0m\n\u001b[0m\u001b[1;32m      4\u001b[0m \u001b[0my_label\u001b[0m \u001b[0;34m=\u001b[0m \u001b[0mnp\u001b[0m\u001b[0;34m.\u001b[0m\u001b[0margmax\u001b[0m\u001b[0;34m(\u001b[0m\u001b[0my_hat\u001b[0m\u001b[0;34m,\u001b[0m \u001b[0maxis\u001b[0m\u001b[0;34m=\u001b[0m\u001b[0;36m1\u001b[0m\u001b[0;34m)\u001b[0m\u001b[0;34m\u001b[0m\u001b[0;34m\u001b[0m\u001b[0m\n\u001b[1;32m      5\u001b[0m \u001b[0mprint\u001b[0m\u001b[0;34m(\u001b[0m\u001b[0my_label\u001b[0m\u001b[0;34m)\u001b[0m\u001b[0;34m\u001b[0m\u001b[0;34m\u001b[0m\u001b[0m\n",
            "\u001b[0;32m/usr/local/lib/python3.7/dist-packages/tensorflow/python/keras/engine/training.py\u001b[0m in \u001b[0;36mpredict\u001b[0;34m(self, x, batch_size, verbose, steps, callbacks, max_queue_size, workers, use_multiprocessing)\u001b[0m\n\u001b[1;32m   1642\u001b[0m             \u001b[0mcallbacks\u001b[0m\u001b[0;34m.\u001b[0m\u001b[0mon_predict_batch_end\u001b[0m\u001b[0;34m(\u001b[0m\u001b[0mend_step\u001b[0m\u001b[0;34m,\u001b[0m \u001b[0;34m{\u001b[0m\u001b[0;34m'outputs'\u001b[0m\u001b[0;34m:\u001b[0m \u001b[0mbatch_outputs\u001b[0m\u001b[0;34m}\u001b[0m\u001b[0;34m)\u001b[0m\u001b[0;34m\u001b[0m\u001b[0;34m\u001b[0m\u001b[0m\n\u001b[1;32m   1643\u001b[0m       \u001b[0;32mif\u001b[0m \u001b[0mbatch_outputs\u001b[0m \u001b[0;32mis\u001b[0m \u001b[0;32mNone\u001b[0m\u001b[0;34m:\u001b[0m\u001b[0;34m\u001b[0m\u001b[0;34m\u001b[0m\u001b[0m\n\u001b[0;32m-> 1644\u001b[0;31m         \u001b[0;32mraise\u001b[0m \u001b[0mValueError\u001b[0m\u001b[0;34m(\u001b[0m\u001b[0;34m'Expect x to be a non-empty array or dataset.'\u001b[0m\u001b[0;34m)\u001b[0m\u001b[0;34m\u001b[0m\u001b[0;34m\u001b[0m\u001b[0m\n\u001b[0m\u001b[1;32m   1645\u001b[0m       \u001b[0mcallbacks\u001b[0m\u001b[0;34m.\u001b[0m\u001b[0mon_predict_end\u001b[0m\u001b[0;34m(\u001b[0m\u001b[0;34m)\u001b[0m\u001b[0;34m\u001b[0m\u001b[0;34m\u001b[0m\u001b[0m\n\u001b[1;32m   1646\u001b[0m     \u001b[0mall_outputs\u001b[0m \u001b[0;34m=\u001b[0m \u001b[0mnest\u001b[0m\u001b[0;34m.\u001b[0m\u001b[0mmap_structure_up_to\u001b[0m\u001b[0;34m(\u001b[0m\u001b[0mbatch_outputs\u001b[0m\u001b[0;34m,\u001b[0m \u001b[0mconcat\u001b[0m\u001b[0;34m,\u001b[0m \u001b[0moutputs\u001b[0m\u001b[0;34m)\u001b[0m\u001b[0;34m\u001b[0m\u001b[0;34m\u001b[0m\u001b[0m\n",
            "\u001b[0;31mValueError\u001b[0m: Expect x to be a non-empty array or dataset."
          ]
        }
      ]
    }
  ]
}